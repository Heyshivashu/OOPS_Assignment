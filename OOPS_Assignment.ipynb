{
  "nbformat": 4,
  "nbformat_minor": 0,
  "metadata": {
    "colab": {
      "provenance": []
    },
    "kernelspec": {
      "name": "python3",
      "display_name": "Python 3"
    },
    "language_info": {
      "name": "python"
    }
  },
  "cells": [
    {
      "cell_type": "markdown",
      "source": [
        "## Name: Shivanshu Singh Parihar\n",
        "# Batch : September 2024\n",
        "# Assignment Date: 16 Oct 2024\n",
        "# Assignment : OOPS Assignment\n",
        "\n",
        "###                                 Assignment -5"
      ],
      "metadata": {
        "id": "H30KkU2sYnTc"
      }
    },
    {
      "cell_type": "markdown",
      "source": [
        "**Q1- What are the five key concepts of Object-Oriented Programming (OOP)?**\n",
        "\n",
        "Ans -\n",
        "The five key concepts of Object-Oriented Programming (OOP) are:\n",
        "\n",
        "1. **Encapsulation**: This concept involves bundling the data (attributes) and methods (functions) that operate on the data into a single unit called a class. It restricts direct access to some of an object's components, which can prevent unintended interference and misuse.\n",
        "\n",
        "2. **Abstraction**: Abstraction focuses on hiding complex implementation details and exposing only the essential features of an object. This allows developers to interact with objects at a high level without needing to understand the underlying complexities.\n",
        "\n",
        "3. **Inheritance**: Inheritance allows a new class (subclass) to inherit properties and behaviors (methods) from an existing class (superclass). This promotes code reusability and establishes a hierarchical relationship between classes.\n",
        "\n",
        "4. **Polymorphism**: Polymorphism enables objects of different classes to be treated as objects of a common superclass. It allows methods to do different things based on the object it is acting upon, typically implemented through method overriding and method overloading.\n",
        "\n",
        "5. **Composition**: Composition is a design principle where a class is composed of one or more objects from other classes, allowing for a “has-a” relationship. This promotes flexibility and reusability by enabling complex types to be built from simpler ones.\n",
        "\n",
        "These concepts work together to create a robust framework for organizing and managing code in a modular and efficient way.\n"
      ],
      "metadata": {
        "id": "YSjJIOLdX_Up"
      }
    },
    {
      "cell_type": "markdown",
      "source": [
        "**Q2-  Write a Python class for a `Car` with attributes for `make`, `model`, and `year`. Include a method to display the car's information.**"
      ],
      "metadata": {
        "id": "9Rt6N2fhYZ8g"
      }
    },
    {
      "cell_type": "code",
      "source": [
        "class Car:\n",
        "    def __init__(self, make, model, year):\n",
        "        self.make = make\n",
        "        self.model = model\n",
        "        self.year = year\n",
        "\n",
        "    def display_info(self):\n",
        "        print(f\"Car Information:\\nMake: {self.make}\\nModel: {self.model}\\nYear: {self.year}\")\n",
        "\n",
        "my_car = Car(\"Honda\", \"i10\", 2024)\n",
        "my_car.display_info()"
      ],
      "metadata": {
        "colab": {
          "base_uri": "https://localhost:8080/"
        },
        "id": "K8hPtWeSZG0I",
        "outputId": "1505775f-7322-4564-daef-7ad4f52eb765"
      },
      "execution_count": 1,
      "outputs": [
        {
          "output_type": "stream",
          "name": "stdout",
          "text": [
            "Car Information:\n",
            "Make: Honda\n",
            "Model: i10\n",
            "Year: 2024\n"
          ]
        }
      ]
    },
    {
      "cell_type": "markdown",
      "source": [
        "**Q3-  Explain the difference between instance methods and class methods. Provide an example of each.**\n",
        "\n",
        "\n",
        "Ans - In Python, instance methods and class methods are two different types of methods that serve different purposes in a class. Here's an explanation of each along with examples:\n",
        "\n",
        " **Instance Methods**\n",
        "\n",
        "Instance methods are functions defined within a class that operate on instances of that class. They take self as the first parameter, which refers to the specific instance of the class.\n",
        "  \n",
        "  **Purpose:** These methods can access and modify instance attributes.\n"
      ],
      "metadata": {
        "id": "_nI-OQZgZSTU"
      }
    },
    {
      "cell_type": "code",
      "source": [
        "class Dog:\n",
        "    def __init__(self, name):\n",
        "        self.name = name\n",
        "\n",
        "    def bark(self):\n",
        "        print(f\"{self.name} says Bhoo!\")\n",
        "\n",
        "# Example usage\n",
        "my_dog = Dog(\"Toggo\")\n",
        "my_dog.bark()"
      ],
      "metadata": {
        "colab": {
          "base_uri": "https://localhost:8080/"
        },
        "id": "AmdfW6Y2Z6ac",
        "outputId": "4e4eadfd-0bd4-40cb-cfc0-1ed4d3fd6559"
      },
      "execution_count": 2,
      "outputs": [
        {
          "output_type": "stream",
          "name": "stdout",
          "text": [
            "Toggo says Bhoo!\n"
          ]
        }
      ]
    },
    {
      "cell_type": "markdown",
      "source": [
        "**Class Methods**\n",
        "\n",
        "Class methods are functions defined within a class that are bound to the class rather than its instances. They take cls as the first parameter, which refers to the class itself.\n",
        "    \n",
        "  **Purpose:** Class methods can be used to access class-level attributes and modify class state. They are decorated with @classmethod."
      ],
      "metadata": {
        "id": "lGGnUIRiZ-bO"
      }
    },
    {
      "cell_type": "code",
      "source": [
        "class Dog:\n",
        "    species = \"labrodor\"\n",
        "    @classmethod\n",
        "    def get_species(cls):\n",
        "        return cls.species\n",
        "print(Dog.get_species())"
      ],
      "metadata": {
        "colab": {
          "base_uri": "https://localhost:8080/"
        },
        "id": "IbkRWhUCaNqh",
        "outputId": "871bcf9a-fe39-454e-9e4c-777220e6fd46"
      },
      "execution_count": 3,
      "outputs": [
        {
          "output_type": "stream",
          "name": "stdout",
          "text": [
            "labrodor\n"
          ]
        }
      ]
    },
    {
      "cell_type": "markdown",
      "source": [
        "**Q4- How does Python implement method overloading? Give an example.**\n",
        "\n",
        "Ans - Python does not support method overloading in the traditional sense, like some other languages e.g., Java or C++. Instead, Python allows us to define a method with the same name, but it does not automatically differentiate between them based on the number or type of arguments. The most recent definition of the method will overwrite the previous ones.\n",
        "\n",
        "However, you can achieve similar behavior using default arguments or by using variable-length arguments args and kwargs. Here’s an example of how wecan simulate method overloading in Python:\n"
      ],
      "metadata": {
        "id": "qV2RoSEVaS_9"
      }
    },
    {
      "cell_type": "code",
      "source": [
        "class Calculator:\n",
        "    def add(self, a, b=0, c=0):\n",
        "        return a + b + c\n",
        "\n",
        "calc = Calculator()\n",
        "print(calc.add(9))\n",
        "print(calc.add(9, 20))\n",
        "print(calc.add(9, 20, 25))"
      ],
      "metadata": {
        "colab": {
          "base_uri": "https://localhost:8080/"
        },
        "id": "loprIXB1auka",
        "outputId": "891e72ef-7b03-4a93-8742-f243346f37a8"
      },
      "execution_count": 4,
      "outputs": [
        {
          "output_type": "stream",
          "name": "stdout",
          "text": [
            "9\n",
            "29\n",
            "54\n"
          ]
        }
      ]
    },
    {
      "cell_type": "markdown",
      "source": [
        "**Example Using Variable-Length Arguments**"
      ],
      "metadata": {
        "id": "miO9c1CZa7Ds"
      }
    },
    {
      "cell_type": "code",
      "source": [
        "class Calculator:\n",
        "    def add(self, *args):\n",
        "        return sum(args)\n",
        "calc = Calculator()\n",
        "print(calc.add(9))\n",
        "print(calc.add(9, 5))\n",
        "print(calc.add(9, 5, 10))\n",
        "print(calc.add(1, 2, 3, 4, 5))"
      ],
      "metadata": {
        "colab": {
          "base_uri": "https://localhost:8080/"
        },
        "id": "zQ_gk4GZa_6I",
        "outputId": "f21d1419-3165-4372-ec90-04e3a6adff3f"
      },
      "execution_count": 5,
      "outputs": [
        {
          "output_type": "stream",
          "name": "stdout",
          "text": [
            "9\n",
            "14\n",
            "24\n",
            "15\n"
          ]
        }
      ]
    },
    {
      "cell_type": "markdown",
      "source": [
        "**Q5-  What are the three types of access modifiers in Python? How are they denoted?**\n",
        "\n",
        "Ans - In Python, there are three types of access modifiers that control the visibility and accessibility of class members attributes and methods. They are:\n",
        "\n",
        " **1. Public**\n",
        "Public members are accessible from outside the class. They can be accessed directly without any restrictions.\n",
        "    \n",
        "* Public members are defined without any special prefix."
      ],
      "metadata": {
        "id": "_3cXm8w6bIll"
      }
    },
    {
      "cell_type": "code",
      "source": [
        "class MyClass:\n",
        "    def __init__(self):\n",
        "        self.public_attribute = \"I am Shivanshu\"\n",
        "\n",
        "obj = MyClass()\n",
        "print(obj.public_attribute)"
      ],
      "metadata": {
        "colab": {
          "base_uri": "https://localhost:8080/"
        },
        "id": "KnBhgoltbujk",
        "outputId": "85df18cd-8d64-45c2-9024-04fcf220026c"
      },
      "execution_count": 6,
      "outputs": [
        {
          "output_type": "stream",
          "name": "stdout",
          "text": [
            "I am Shivanshu\n"
          ]
        }
      ]
    },
    {
      "cell_type": "markdown",
      "source": [
        "**2. Protected**\n",
        "Protected members are intended to be accessible within the class and its subclasses. They are not meant to be accessed directly from outside the class hierarchy.\n",
        "    \n",
        "* Protected members are denoted by a single underscore (_) prefix."
      ],
      "metadata": {
        "id": "jbfHHPp9b1zL"
      }
    },
    {
      "cell_type": "code",
      "source": [
        "class MyClass:\n",
        "    def __init__(self):\n",
        "        self._protected_attribute = \"I am Data Anlysts\"\n",
        "\n",
        "class SubClass(MyClass):\n",
        "    def access_protected(self):\n",
        "        return self._protected_attribute\n",
        "\n",
        "obj = SubClass()\n",
        "print(obj.access_protected())"
      ],
      "metadata": {
        "colab": {
          "base_uri": "https://localhost:8080/"
        },
        "id": "5zhPz6wEcEH4",
        "outputId": "ecb18151-5f98-414f-d727-f6e930e55603"
      },
      "execution_count": 7,
      "outputs": [
        {
          "output_type": "stream",
          "name": "stdout",
          "text": [
            "I am Data Anlysts\n"
          ]
        }
      ]
    },
    {
      "cell_type": "markdown",
      "source": [
        "**3. Private**\n",
        "Private members are meant to be accessible only within the class itself. They cannot be accessed from outside the class or by subclasses.\n",
        "    \n",
        "* Private members are denoted by a double underscore (__) prefix, which triggers name mangling (the interpreter changes the name of the variable to include the class name)."
      ],
      "metadata": {
        "id": "Xi_UY4S1cKFn"
      }
    },
    {
      "cell_type": "code",
      "source": [
        "class MyClass:\n",
        "    def __init__(self):\n",
        "        self.__private_attribute = \"I am Social Media Specialist\"\n",
        "\n",
        "    def access_private(self):\n",
        "        return self.__private_attribute\n",
        "\n",
        "obj = MyClass()\n",
        "print(obj.access_private())"
      ],
      "metadata": {
        "colab": {
          "base_uri": "https://localhost:8080/"
        },
        "id": "G3Fl0rEycXs8",
        "outputId": "a103a6de-93da-45a5-f0e4-20a874de48a0"
      },
      "execution_count": 8,
      "outputs": [
        {
          "output_type": "stream",
          "name": "stdout",
          "text": [
            "I am Social Media Specialist\n"
          ]
        }
      ]
    },
    {
      "cell_type": "markdown",
      "source": [
        "**Q6-  Describe the five types of inheritance in Python. Provide a simple example of multiple inheritance.**\n",
        "**Ans -** In Python, there are five main types of inheritance:\n",
        "\n",
        "**1. Single Inheritance**\n",
        "\n",
        "In single inheritance, a class (subclass) inherits from one superclass (base class)."
      ],
      "metadata": {
        "id": "jH5MvdoCcgwo"
      }
    },
    {
      "cell_type": "code",
      "source": [
        "class Animal:\n",
        "    def speak(self):\n",
        "        return \"Cat speak\"\n",
        "\n",
        "class Dog(Animal):\n",
        "    def bark(self):\n",
        "        return \"Mews!\"\n",
        "\n",
        "dog = Dog()\n",
        "print(dog.speak())\n",
        "print(dog.bark())"
      ],
      "metadata": {
        "colab": {
          "base_uri": "https://localhost:8080/"
        },
        "id": "exAERGcFc9x3",
        "outputId": "5baf92de-79ef-4067-84f0-cc347dea0356"
      },
      "execution_count": 9,
      "outputs": [
        {
          "output_type": "stream",
          "name": "stdout",
          "text": [
            "Cat speak\n",
            "Mews!\n"
          ]
        }
      ]
    },
    {
      "cell_type": "markdown",
      "source": [
        "**2. Multiple Inheritance**\n",
        "\n",
        "In multiple inheritance, a class can inherit from more than one superclass. This allows the subclass to access attributes and methods from multiple parent classes."
      ],
      "metadata": {
        "id": "obphVSDgdEhh"
      }
    },
    {
      "cell_type": "code",
      "source": [
        "class Flyer:\n",
        "    def fly(self):\n",
        "        return \"I can walk!\"\n",
        "\n",
        "class Swimmer:\n",
        "    def swim(self):\n",
        "        return \"I can run!\"\n",
        "\n",
        "class Duck(Flyer, Swimmer):\n",
        "    def quack(self):\n",
        "        return \"mews!\"\n",
        "\n",
        "duck = Duck()\n",
        "print(duck.fly())\n",
        "print(duck.swim())\n",
        "print(duck.quack())"
      ],
      "metadata": {
        "colab": {
          "base_uri": "https://localhost:8080/"
        },
        "id": "RDa0Vhm5dT1M",
        "outputId": "fa58c0eb-df09-4f87-be32-3672909e1b62"
      },
      "execution_count": 10,
      "outputs": [
        {
          "output_type": "stream",
          "name": "stdout",
          "text": [
            "I can walk!\n",
            "I can run!\n",
            "mews!\n"
          ]
        }
      ]
    },
    {
      "cell_type": "markdown",
      "source": [
        "**3. Multilevel Inheritance**\n",
        "\n",
        "In multilevel inheritance, a class inherits from a subclass, forming a hierarchy."
      ],
      "metadata": {
        "id": "-gAbyCvzdfuL"
      }
    },
    {
      "cell_type": "code",
      "source": [
        "class Animal:\n",
        "    def speak(self):\n",
        "        return \"Animal speaks\"\n",
        "\n",
        "class Dog(Animal):\n",
        "    def bark(self):\n",
        "        return \"Woof!\"\n",
        "\n",
        "class Puppy(Dog):\n",
        "    def whimper(self):\n",
        "        return \"Whimper!\"\n",
        "\n",
        "puppy = Puppy()\n",
        "print(puppy.speak())\n",
        "print(puppy.bark())\n",
        "print(puppy.whimper())"
      ],
      "metadata": {
        "colab": {
          "base_uri": "https://localhost:8080/"
        },
        "id": "wBCaDTVmdn4f",
        "outputId": "ac3ecc76-b62c-4f7c-9f51-c0b65443246c"
      },
      "execution_count": null,
      "outputs": [
        {
          "output_type": "stream",
          "name": "stdout",
          "text": [
            "Animal speaks\n",
            "Woof!\n",
            "Whimper!\n"
          ]
        }
      ]
    },
    {
      "cell_type": "markdown",
      "source": [
        "**4. Hierarchical Inheritance**\n",
        "\n",
        "In hierarchical inheritance, multiple subclasses inherit from a single superclass."
      ],
      "metadata": {
        "id": "AXeMaQ6IdvR-"
      }
    },
    {
      "cell_type": "code",
      "source": [
        "class Animal:\n",
        "    def speak(self):\n",
        "        return \"Animal speaks\"\n",
        "\n",
        "class Dog(Animal):\n",
        "    def bark(self):\n",
        "        return \"Woof!\"\n",
        "\n",
        "class Cat(Animal):\n",
        "    def meow(self):\n",
        "        return \"Meow!\"\n",
        "\n",
        "dog = Dog()\n",
        "cat = Cat()\n",
        "print(dog.speak())\n",
        "print(cat.speak())\n",
        "print(dog.bark())\n",
        "print(cat.meow())"
      ],
      "metadata": {
        "colab": {
          "base_uri": "https://localhost:8080/"
        },
        "id": "2MshTcGNd2L1",
        "outputId": "9e6502b7-1ad5-43e6-c55e-cf259695ba0b"
      },
      "execution_count": null,
      "outputs": [
        {
          "output_type": "stream",
          "name": "stdout",
          "text": [
            "Animal speaks\n",
            "Animal speaks\n",
            "Woof!\n",
            "Meow!\n"
          ]
        }
      ]
    },
    {
      "cell_type": "markdown",
      "source": [
        "**5. Hybrid Inheritance**\n",
        "\n",
        "Hybrid inheritance is a combination of two or more types of inheritance. It can include multiple inheritance, multilevel inheritance, etc.\n"
      ],
      "metadata": {
        "id": "jokPMXjLd-L2"
      }
    },
    {
      "cell_type": "code",
      "source": [
        "class Animal:\n",
        "    def speak(self):\n",
        "        return \"Animal sound\"\n",
        "\n",
        "class Dog(Animal):\n",
        "    def speak(self):\n",
        "        return \"Bark\"\n",
        "\n",
        "class Puppy(Dog):\n",
        "    def speak(self):\n",
        "        return \"Yip\"\n",
        "\n",
        "class Cat:\n",
        "    def speak(self):\n",
        "        return \"Meow\"\n",
        "\n",
        "class Lion(Animal, Cat):\n",
        "    def speak(self):\n",
        "        return \"Roar\"\n",
        "\n",
        "class HybridDog(Dog, Cat):\n",
        "    def speak(self):\n",
        "        return \"Hybrid Bark and Meow\"\n",
        "\n",
        "if __name__ == \"__main__\":\n",
        "    dog = Dog()\n",
        "    puppy = Puppy()\n",
        "    lion = Lion()\n",
        "    hybrid_dog = HybridDog()\n",
        "\n",
        "    print(\"Dog:\", dog.speak())\n",
        "    print(\"Puppy:\", puppy.speak())\n",
        "    print(\"Lion:\", lion.speak())\n",
        "    print(\"Hybrid Dog:\", hybrid_dog.speak())"
      ],
      "metadata": {
        "id": "vwXJrIB9eGPi",
        "colab": {
          "base_uri": "https://localhost:8080/"
        },
        "outputId": "f9ff4c50-113f-4cb0-8118-bce55f9f6c66"
      },
      "execution_count": 15,
      "outputs": [
        {
          "output_type": "stream",
          "name": "stdout",
          "text": [
            "Dog: Bark\n",
            "Puppy: Yip\n",
            "Lion: Roar\n",
            "Hybrid Dog: Hybrid Bark and Meow\n"
          ]
        }
      ]
    },
    {
      "cell_type": "markdown",
      "source": [
        "**Q7-  What is the Method Resolution Order (MRO) in Python? How can you retrieve it programmatically?**\n",
        "\n",
        "Ans - Method Resolution Order (MRO) in Python is the order in which classes are looked up when searching for a method or an attribute. This is particularly important in multiple inheritance scenarios, where the same method might exist in more than one parent class.\n",
        "\n",
        "**Python uses the C3 linearization algorithm to determine the MRO, ensuring that:**\n",
        "\n",
        " * A class is always considered before its parent classes.\n",
        "\n",
        "* The order of parent classes is preserved.\n",
        "\n",
        "* A class cannot appear before its parents in the MRO.\n",
        "\n",
        "We can retrieve the MRO of a class using the __mro__ attribute or the mro() method."
      ],
      "metadata": {
        "id": "QgKsUaiCeLFt"
      }
    },
    {
      "cell_type": "code",
      "source": [
        "class A:\n",
        "    pass\n",
        "\n",
        "class B(A):\n",
        "    pass\n",
        "\n",
        "class C(A):\n",
        "    pass\n",
        "\n",
        "class D(B, C):\n",
        "    pass\n",
        "\n",
        "print(D.__mro__)\n",
        "print(D.mro())"
      ],
      "metadata": {
        "colab": {
          "base_uri": "https://localhost:8080/"
        },
        "id": "Iuxie1rce8Nl",
        "outputId": "3d62823c-af98-4e43-c948-f7a11ffc1412"
      },
      "execution_count": 16,
      "outputs": [
        {
          "output_type": "stream",
          "name": "stdout",
          "text": [
            "(<class '__main__.D'>, <class '__main__.B'>, <class '__main__.C'>, <class '__main__.A'>, <class 'object'>)\n",
            "[<class '__main__.D'>, <class '__main__.B'>, <class '__main__.C'>, <class '__main__.A'>, <class 'object'>]\n"
          ]
        }
      ]
    },
    {
      "cell_type": "markdown",
      "source": [
        "**Q8-  Create an abstract base class `Shape` with an abstract method `area()`. Then create two subclasses `Circle` and `Rectangle` that implement the `area()` method**\n",
        "\n",
        "Ans -Here's how you can create an abstract base class Shape with an abstract method area(), and then create two subclasses, Circle and Rectangle, that implement the area() method.\n",
        "\n",
        "We will use the abc module to define the abstract base class."
      ],
      "metadata": {
        "id": "2C-OiDwKfNJc"
      }
    },
    {
      "cell_type": "code",
      "source": [
        "from abc import ABC, abstractmethod\n",
        "import math\n",
        "\n",
        "class Shape(ABC):\n",
        "    @abstractmethod\n",
        "    def area(self):\n",
        "        pass"
      ],
      "metadata": {
        "id": "CRbscTGHfvCl"
      },
      "execution_count": 17,
      "outputs": []
    },
    {
      "cell_type": "markdown",
      "source": [
        "Now, implement the Circle and Rectangle classes that inherit from Shape and define the area() method."
      ],
      "metadata": {
        "id": "gyfxEF_sf5sI"
      }
    },
    {
      "cell_type": "code",
      "source": [
        "class Circle(Shape):\n",
        "    def __init__(self, radius):\n",
        "        self.radius = radius\n",
        "\n",
        "    def area(self):\n",
        "        return math.pi * (self.radius ** 2)\n",
        "\n",
        "class Rectangle(Shape):\n",
        "    def __init__(self, width, height):\n",
        "        self.width = width\n",
        "        self.height = height\n",
        "\n",
        "    def area(self):\n",
        "        return self.width * self.height"
      ],
      "metadata": {
        "id": "CyLupv6MgA0k"
      },
      "execution_count": 18,
      "outputs": []
    },
    {
      "cell_type": "markdown",
      "source": [
        "Now we can create instances of Circle and Rectangle and call their area() methods"
      ],
      "metadata": {
        "id": "bZhfanY7gFAp"
      }
    },
    {
      "cell_type": "code",
      "source": [
        "circle = Circle(5)\n",
        "print(f\"Area of the circle: {circle.area():.2f}\")\n",
        "\n",
        "rectangle = Rectangle(4, 6)\n",
        "print(f\"Area of the rectangle: {rectangle.area()}\")"
      ],
      "metadata": {
        "colab": {
          "base_uri": "https://localhost:8080/"
        },
        "id": "LuhnYY7NgLXY",
        "outputId": "dc7eb40c-8712-49bf-e108-f8dac5628a6c"
      },
      "execution_count": 19,
      "outputs": [
        {
          "output_type": "stream",
          "name": "stdout",
          "text": [
            "Area of the circle: 78.54\n",
            "Area of the rectangle: 24\n"
          ]
        }
      ]
    },
    {
      "cell_type": "markdown",
      "source": [
        "**Q9 Demonstrate polymorphism by creating a function that can work with different shape objects to calculate and print their areas.**\n",
        "\n",
        "Ans - Polymorphism allows us to use a common interface for different data types. In this case, we can create a function that accepts various shape objects and calculates their areas. Here’s how we can implement this using the previously defined Shape, Circle, and Rectangle classes.\n",
        "\n",
        "*  Define the Shape Classes\n",
        "\n",
        "Make sure we have the Shape, Circle, and Rectangle classes defined as shown before.\n",
        "\n",
        "* Create the Polymorphic Function\n",
        "\n",
        "We can create a function called print_area that takes a Shape object and prints its area."
      ],
      "metadata": {
        "id": "b8dpVpf6gRgY"
      }
    },
    {
      "cell_type": "code",
      "source": [
        "def print_area(shape):\n",
        "    print(f\"The area of the shape is: {shape.area():.2f}\")"
      ],
      "metadata": {
        "id": "QhQvzZfngto-"
      },
      "execution_count": 20,
      "outputs": []
    },
    {
      "cell_type": "markdown",
      "source": [
        "Now we can create instances of Circle and Rectangle, and pass them to the print_area function."
      ],
      "metadata": {
        "id": "tCIuFOsegxZX"
      }
    },
    {
      "cell_type": "code",
      "source": [
        "circle = Circle(5)\n",
        "rectangle = Rectangle(4, 6)\n",
        "\n",
        "print_area(circle)\n",
        "print_area(rectangle)"
      ],
      "metadata": {
        "colab": {
          "base_uri": "https://localhost:8080/"
        },
        "id": "yM1qEWFAg38y",
        "outputId": "e8992dcf-c296-481b-98f4-956ad2ee4731"
      },
      "execution_count": 21,
      "outputs": [
        {
          "output_type": "stream",
          "name": "stdout",
          "text": [
            "The area of the shape is: 78.54\n",
            "The area of the shape is: 24.00\n"
          ]
        }
      ]
    },
    {
      "cell_type": "markdown",
      "source": [
        "Here’s the complete code combining all the components:"
      ],
      "metadata": {
        "id": "t9yKp4TAg-ce"
      }
    },
    {
      "cell_type": "code",
      "source": [
        "from abc import ABC, abstractmethod\n",
        "import math\n",
        "\n",
        "class Shape(ABC):\n",
        "    @abstractmethod\n",
        "    def area(self):\n",
        "        pass\n",
        "\n",
        "class Circle(Shape):\n",
        "    def __init__(self, radius):\n",
        "        self.radius = radius\n",
        "\n",
        "    def area(self):\n",
        "        return math.pi * (self.radius ** 2)\n",
        "\n",
        "class Rectangle(Shape):\n",
        "    def __init__(self, width, height):\n",
        "        self.width = width\n",
        "        self.height = height\n",
        "\n",
        "    def area(self):\n",
        "        return self.width * self.height\n",
        "\n",
        "def print_area(shape):\n",
        "    print(f\"The area of the shape is: {shape.area():.2f}\")\n",
        "\n",
        "circle = Circle(5)\n",
        "rectangle = Rectangle(4, 6)\n",
        "\n",
        "print_area(circle)\n",
        "print_area(rectangle)"
      ],
      "metadata": {
        "colab": {
          "base_uri": "https://localhost:8080/"
        },
        "id": "jdryubsdhFR5",
        "outputId": "ce446360-3e33-4fe6-a915-f1b51afa4ec4"
      },
      "execution_count": 22,
      "outputs": [
        {
          "output_type": "stream",
          "name": "stdout",
          "text": [
            "The area of the shape is: 78.54\n",
            "The area of the shape is: 24.00\n"
          ]
        }
      ]
    },
    {
      "cell_type": "markdown",
      "source": [
        "**Q10- . Implement encapsulation in a `BankAccount` class with private attributes for `balance` and `account_number`. Include methods for deposit, withdrawal, and balance inquiry.**\n",
        "\n",
        "Ans - Here's how you can implement encapsulation in a BankAccount class with private attributes for balance and account_number. This class will include methods for depositing, withdrawing, and inquiring about the balance.\n",
        "\n",
        "**Implementation of the BankAccount Class**\n"
      ],
      "metadata": {
        "id": "fefaySJXhNku"
      }
    },
    {
      "cell_type": "code",
      "source": [
        "class BankAccount:\n",
        "    def __init__(self, account_number, initial_balance=0):\n",
        "        self.__account_number = account_number  # Private attribute\n",
        "        self.__balance = initial_balance         # Private attribute\n",
        "\n",
        "    def deposit(self, amount):\n",
        "        if amount > 0:\n",
        "            self.__balance += amount\n",
        "            print(f\"Deposited: ${amount:.2f}\")\n",
        "        else:\n",
        "            print(\"Deposit amount must be positive.\")\n",
        "\n",
        "    def withdraw(self, amount):\n",
        "        if 0 < amount <= self.__balance:\n",
        "            self.__balance -= amount\n",
        "            print(f\"Withdrew: ${amount:.2f}\")\n",
        "        else:\n",
        "            print(\"Invalid withdrawal amount.\")\n",
        "\n",
        "    def get_balance(self):\n",
        "        return self.__balance\n",
        "\n",
        "    def get_account_number(self):\n",
        "        return self.__account_number\n",
        "\n",
        "if __name__ == \"__main__\":\n",
        "    account = BankAccount(\"123456789\", 1000)\n",
        "\n",
        "    print(f\"Account Number: {account.get_account_number()}\")\n",
        "    print(f\"Initial Balance: ${account.get_balance():.2f}\")\n",
        "\n",
        "    account.deposit(500)\n",
        "    print(f\"New Balance: ${account.get_balance():.2f}\")\n",
        "\n",
        "    account.withdraw(200)\n",
        "    print(f\"New Balance: ${account.get_balance():.2f}\")\n",
        "\n",
        "    account.withdraw(2000)  # Invalid withdrawal"
      ],
      "metadata": {
        "colab": {
          "base_uri": "https://localhost:8080/"
        },
        "id": "HyDjWGhrhpkM",
        "outputId": "fb5a2856-ac94-46c5-bd1e-7aa5725fb165"
      },
      "execution_count": 23,
      "outputs": [
        {
          "output_type": "stream",
          "name": "stdout",
          "text": [
            "Account Number: 123456789\n",
            "Initial Balance: $1000.00\n",
            "Deposited: $500.00\n",
            "New Balance: $1500.00\n",
            "Withdrew: $200.00\n",
            "New Balance: $1300.00\n",
            "Invalid withdrawal amount.\n"
          ]
        }
      ]
    },
    {
      "cell_type": "markdown",
      "source": [
        "**Q11- . Write a class that overrides the `__str__` and `__add__` magic methods. What will these methods allow you to do?**\n",
        "\n",
        "Ans -In Python, the __str__ and __add__ magic methods allow you to define custom behavior for string representation and addition operations, respectively. Here's a class that demonstrates both:\n",
        "\n",
        "**Implementation of a Custom Class**\n",
        "\n",
        "Let's create a class called Vector that represents a mathematical vector and overrides the __str__ and __add__ methods."
      ],
      "metadata": {
        "id": "ERcESg0rhvHG"
      }
    },
    {
      "cell_type": "code",
      "source": [
        "class Vector:\n",
        "    def __init__(self, x, y):\n",
        "        self.x = x\n",
        "        self.y = y\n",
        "\n",
        "    def __str__(self):\n",
        "        return f\"Vector({self.x}, {self.y})\"\n",
        "\n",
        "    def __add__(self, other):\n",
        "        if isinstance(other, Vector):\n",
        "            return Vector(self.x + other.x, self.y + other.y)\n",
        "        return NotImplemented\n",
        "\n",
        "if __name__ == \"__main__\":\n",
        "    v1 = Vector(2, 3)\n",
        "    v2 = Vector(5, 7)\n",
        "\n",
        "    print(v1)           # Output: Vector(2, 3)\n",
        "    print(v2)           # Output: Vector(5, 7)\n",
        "\n",
        "    v3 = v1 + v2       # Using the __add__ method\n",
        "    print(v3)          # Output: Vector(7, 10)"
      ],
      "metadata": {
        "colab": {
          "base_uri": "https://localhost:8080/"
        },
        "id": "pEdH37f2iP6h",
        "outputId": "f2d122d9-5792-4fd0-e2ce-1d51d1e5c258"
      },
      "execution_count": null,
      "outputs": [
        {
          "output_type": "stream",
          "name": "stdout",
          "text": [
            "Vector(2, 3)\n",
            "Vector(5, 7)\n",
            "Vector(7, 10)\n"
          ]
        }
      ]
    },
    {
      "cell_type": "markdown",
      "source": [
        "**Q12 Create a decorator that measures and prints the execution time of a function.**\n",
        "\n",
        "Ans - We can create a decorator in Python that measures and prints the execution time of a function using the time module. Here’s how you can implement such a decorator:\n",
        "\n",
        "**Implementation of the Execution Time Decorator**"
      ],
      "metadata": {
        "id": "LOIY9LNgiVeS"
      }
    },
    {
      "cell_type": "code",
      "source": [
        "import time\n",
        "\n",
        "def measure_execution_time(func):\n",
        "    def wrapper(*args, **kwargs):\n",
        "        start_time = time.time()  # Record the start time\n",
        "        result = func(*args, **kwargs)  # Call the original function\n",
        "        end_time = time.time()  # Record the end time\n",
        "        execution_time = end_time - start_time  # Calculate the execution time\n",
        "        print(f\"Execution time of {func.__name__}: {execution_time:.4f} seconds\")\n",
        "        return result  # Return the result of the original function\n",
        "    return wrapper\n",
        "\n",
        "@measure_execution_time\n",
        "def example_function(n):\n",
        "    total = 0\n",
        "    for i in range(n):\n",
        "        total += i\n",
        "    return total\n",
        "\n",
        "result = example_function(1000000)"
      ],
      "metadata": {
        "colab": {
          "base_uri": "https://localhost:8080/"
        },
        "id": "t2OUHUw8iqX2",
        "outputId": "c4e8d9a6-af67-40f3-ff95-48ce3261d722"
      },
      "execution_count": null,
      "outputs": [
        {
          "output_type": "stream",
          "name": "stdout",
          "text": [
            "Execution time of example_function: 0.0721 seconds\n"
          ]
        }
      ]
    },
    {
      "cell_type": "markdown",
      "source": [
        "**Q13. Explain the concept of the Diamond Problem in multiple inheritance. How does Python resolve it?**\n",
        "Ans - The Diamond Problem in multiple inheritance occurs when a class inherits from two classes that both inherit from a common superclass. This can create ambiguity about which method or attribute to use from the common ancestor, leading to potential conflicts.\n",
        "\n",
        "**Consider the following class structure:**"
      ],
      "metadata": {
        "id": "vyr1ewRSiv5-"
      }
    },
    {
      "cell_type": "code",
      "source": [
        "      A\n",
        "     / \\\n",
        "    B   C\n",
        "     \\ /\n",
        "      D"
      ],
      "metadata": {
        "id": "eO5YV1PsjNNU"
      },
      "execution_count": null,
      "outputs": []
    },
    {
      "cell_type": "markdown",
      "source": [
        "**In this diagram:**\n",
        "\n",
        "Class A is the superclass.\n",
        "Classes B and C inherit from A.\n",
        "Class D inherits from both B and C.\n",
        "\n",
        "\n",
        "If both B and C override a method from A, and an instance of D calls that method, which version of the method should be used? This ambiguity is known as the Diamond Problem.\n",
        "\n",
        "**Python's Resolution of the Diamond Problem**\n",
        "\n",
        "Python resolves the Diamond Problem using the C3 Linearization algorithm (also known as the C3 superclass linearization). This algorithm provides a consistent method resolution order (MRO) that respects the order of inheritance and ensures that each class is called in a predictable way.\n",
        "\n",
        "**MRO in Python**\n",
        "\n",
        "The MRO defines the order in which classes are checked when calling a method or accessing an attribute. You can view the MRO of a class using the __mro__ attribute or the mro() method.\n",
        "\n",
        "**Implementation**\n",
        "\n",
        "Here's a concrete example to illustrate the Diamond Problem and how Python resolves it:"
      ],
      "metadata": {
        "id": "Dx7I7QPdjUxu"
      }
    },
    {
      "cell_type": "code",
      "source": [
        "class A:\n",
        "    def method(self):\n",
        "        return \"Method from A\"\n",
        "\n",
        "class B(A):\n",
        "    def method(self):\n",
        "        return \"Method from B\"\n",
        "\n",
        "class C(A):\n",
        "    def method(self):\n",
        "        return \"Method from C\"\n",
        "\n",
        "class D(B, C):\n",
        "    pass\n",
        "\n",
        "d = D()\n",
        "\n",
        "print(d.method())\n",
        "\n",
        "print(D.__mro__)"
      ],
      "metadata": {
        "colab": {
          "base_uri": "https://localhost:8080/"
        },
        "id": "gZbY5CNCj4mB",
        "outputId": "019de874-a40f-4872-e384-d9a2ec68948f"
      },
      "execution_count": null,
      "outputs": [
        {
          "output_type": "stream",
          "name": "stdout",
          "text": [
            "Method from B\n",
            "(<class '__main__.D'>, <class '__main__.B'>, <class '__main__.C'>, <class '__main__.A'>, <class 'object'>)\n"
          ]
        }
      ]
    },
    {
      "cell_type": "markdown",
      "source": [
        "**Q14-  Write a class method that keeps track of the number of instances created from a class.**\n",
        "\n",
        "Ans - We can implement a class method that keeps track of the number of instances created from a class by maintaining a class-level attribute. Here’s how you can do that:\n",
        "\n",
        "**Implementation of the Class with Instance Tracking**"
      ],
      "metadata": {
        "id": "_Mc4grZwkAAE"
      }
    },
    {
      "cell_type": "code",
      "source": [
        "class InstanceCounter:\n",
        "    instance_count = 0\n",
        "\n",
        "    def __init__(self):\n",
        "        InstanceCounter.instance_count += 1\n",
        "\n",
        "    @classmethod\n",
        "    def get_instance_count(cls):\n",
        "        return cls.instance_count\n",
        "\n",
        "if __name__ == \"__main__\":\n",
        "    obj1 = InstanceCounter()\n",
        "    obj2 = InstanceCounter()\n",
        "    obj3 = InstanceCounter()\n",
        "\n",
        "    print(f\"Number of instances created: {InstanceCounter.get_instance_count()}\")"
      ],
      "metadata": {
        "colab": {
          "base_uri": "https://localhost:8080/"
        },
        "id": "5sobWOsOkVRE",
        "outputId": "69be391e-0fa4-4b6b-bae0-12bd328b41d5"
      },
      "execution_count": null,
      "outputs": [
        {
          "output_type": "stream",
          "name": "stdout",
          "text": [
            "Number of instances created: 3\n"
          ]
        }
      ]
    },
    {
      "cell_type": "markdown",
      "source": [
        "**Q15- Implement a static method in a class that checks if a given year is a leap year.**\n",
        "\n",
        "Ans - We can implement a static method in a class to check if a given year is a leap year. Here's how you can do that:\n",
        "\n",
        "**Implementation of the Leap Year Checker**"
      ],
      "metadata": {
        "id": "8wg08XtqkbfA"
      }
    },
    {
      "cell_type": "code",
      "source": [
        "class YearUtils:\n",
        "    @staticmethod\n",
        "    def is_leap_year(year):\n",
        "        \"\"\"Check if a given year is a leap year.\"\"\"\n",
        "        if (year % 4 == 0 and year % 100 != 0) or (year % 400 == 0):\n",
        "            return True\n",
        "        return False\n",
        "\n",
        "if __name__ == \"__main__\":\n",
        "    year = 2028\n",
        "    if YearUtils.is_leap_year(year):\n",
        "        print(f\"{year} is a leap year.\")\n",
        "    else:\n",
        "        print(f\"{year} is not a leap year.\")"
      ],
      "metadata": {
        "colab": {
          "base_uri": "https://localhost:8080/"
        },
        "id": "5GveZIWNk1J8",
        "outputId": "fa8c9ef8-831d-4f1d-e59f-23219de9ecc4"
      },
      "execution_count": 24,
      "outputs": [
        {
          "output_type": "stream",
          "name": "stdout",
          "text": [
            "2028 is a leap year.\n"
          ]
        }
      ]
    }
  ]
}